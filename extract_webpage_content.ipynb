{
 "cells": [
  {
   "cell_type": "code",
   "execution_count": 4,
   "metadata": {},
   "outputs": [],
   "source": [
    "web_pages = [\n",
    "\"https://docs.chaicode.com/youtube/chai-aur-c/control-flow/\",\n",
    "\"https://docs.chaicode.com/youtube/chai-aur-c/data-types/\",\n",
    "\"https://docs.chaicode.com/youtube/chai-aur-c/functions/\",\n",
    "\"https://docs.chaicode.com/youtube/chai-aur-c/hello-world/\",\n",
    "\"https://docs.chaicode.com/youtube/chai-aur-c/introduction/\",\n",
    "\"https://docs.chaicode.com/youtube/chai-aur-c/loops/\",\n",
    "\"https://docs.chaicode.com/youtube/chai-aur-c/operators/\",\n",
    "\"https://docs.chaicode.com/youtube/chai-aur-c/variables-and-constants/\",\n",
    "\"https://docs.chaicode.com/youtube/chai-aur-c/welcome/\",\n",
    "\"https://docs.chaicode.com/youtube/chai-aur-devops/nginx-rate-limiting/\",\n",
    "\"https://docs.chaicode.com/youtube/chai-aur-devops/nginx-ssl-setup/\",\n",
    "\"https://docs.chaicode.com/youtube/chai-aur-devops/node-logger/\",\n",
    "\"https://docs.chaicode.com/youtube/chai-aur-devops/node-nginx-vps/\",\n",
    "\"https://docs.chaicode.com/youtube/chai-aur-devops/postgresql-docker/\",\n",
    "\"https://docs.chaicode.com/youtube/chai-aur-devops/postgresql-vps/\",\n",
    "\"https://docs.chaicode.com/youtube/chai-aur-devops/setup-nginx/\",\n",
    "\"https://docs.chaicode.com/youtube/chai-aur-devops/setup-vpc/\",\n",
    "\"https://docs.chaicode.com/youtube/chai-aur-devops/welcome/\",\n",
    "\"https://docs.chaicode.com/youtube/chai-aur-django/getting-started/\",\n",
    "\"https://docs.chaicode.com/youtube/chai-aur-django/jinja-templates/\",\n",
    "\"https://docs.chaicode.com/youtube/chai-aur-django/models/\",\n",
    "\"https://docs.chaicode.com/youtube/chai-aur-django/relationships-and-forms/\",\n",
    "\"https://docs.chaicode.com/youtube/chai-aur-django/tailwind/\",\n",
    "\"https://docs.chaicode.com/youtube/chai-aur-django/welcome/\",\n",
    "\"https://docs.chaicode.com/youtube/chai-aur-git/behind-the-scenes/\",\n",
    "\"https://docs.chaicode.com/youtube/chai-aur-git/branches/\",\n",
    "\"https://docs.chaicode.com/youtube/chai-aur-git/diff-stash-tags/\",\n",
    "\"https://docs.chaicode.com/youtube/chai-aur-git/github/\",\n",
    "\"https://docs.chaicode.com/youtube/chai-aur-git/introduction/\",\n",
    "\"https://docs.chaicode.com/youtube/chai-aur-git/managing-history/\",\n",
    "\"https://docs.chaicode.com/youtube/chai-aur-git/terminology/\",\n",
    "\"https://docs.chaicode.com/youtube/chai-aur-git/welcome/\",\n",
    "\"https://docs.chaicode.com/youtube/chai-aur-html/emmit-crash-course/\",\n",
    "\"https://docs.chaicode.com/youtube/chai-aur-html/html-tags/\",\n",
    "\"https://docs.chaicode.com/youtube/chai-aur-html/introduction/\",\n",
    "\"https://docs.chaicode.com/youtube/chai-aur-html/welcome/\",\n",
    "\"https://docs.chaicode.com/youtube/chai-aur-sql/database-design-exercise/\",\n",
    "\"https://docs.chaicode.com/youtube/chai-aur-sql/introduction/\",\n",
    "\"https://docs.chaicode.com/youtube/chai-aur-sql/joins-and-keys/\",\n",
    "\"https://docs.chaicode.com/youtube/chai-aur-sql/joins-exercise/\",\n",
    "\"https://docs.chaicode.com/youtube/chai-aur-sql/normalization/\",\n",
    "\"https://docs.chaicode.com/youtube/chai-aur-sql/postgres/\",\n",
    "\"https://docs.chaicode.com/youtube/chai-aur-sql/welcome/\",\n",
    "\"https://docs.chaicode.com/youtube/getting-started\",\n",
    "\"https://docs.chaicode.com/youtube/getting-started/\"\n",
    "]"
   ]
  },
  {
   "cell_type": "code",
   "execution_count": 5,
   "metadata": {},
   "outputs": [
    {
     "name": "stdout",
     "output_type": "stream",
     "text": [
      "len web pages 45\n",
      "len unique web pages 44\n"
     ]
    }
   ],
   "source": [
    "unique_web_pages = set()\n",
    "for web_page in web_pages:\n",
    "    unique_web_pages.add(web_page.strip().strip(\"/\"))\n",
    "print(\"len web pages\", len(web_pages))\n",
    "print(\"len unique web pages\", len(unique_web_pages))"
   ]
  },
  {
   "cell_type": "code",
   "execution_count": 4,
   "metadata": {},
   "outputs": [],
   "source": [
    "import asyncio\n",
    "from crawl4ai import *\n",
    "\n",
    "async def main():\n",
    "    async with AsyncWebCrawler() as crawler:\n",
    "        result = await crawler.arun(\n",
    "            url=\"https://docs.chaicode.com/youtube/getting-started/\",\n",
    "        )\n",
    "        print(result.markdown)"
   ]
  },
  {
   "cell_type": "code",
   "execution_count": null,
   "metadata": {},
   "outputs": [
    {
     "ename": "NameError",
     "evalue": "name 'WebCrawler' is not defined",
     "output_type": "error",
     "traceback": [
      "\u001b[31m---------------------------------------------------------------------------\u001b[39m",
      "\u001b[31mNameError\u001b[39m                                 Traceback (most recent call last)",
      "\u001b[36mCell\u001b[39m\u001b[36m \u001b[39m\u001b[32mIn[6]\u001b[39m\u001b[32m, line 3\u001b[39m\n\u001b[32m      1\u001b[39m \u001b[38;5;28;01mfrom\u001b[39;00m\u001b[38;5;250m \u001b[39m\u001b[34;01mcrawl4ai\u001b[39;00m\u001b[38;5;250m \u001b[39m\u001b[38;5;28;01mimport\u001b[39;00m *\n\u001b[32m----> \u001b[39m\u001b[32m3\u001b[39m \u001b[38;5;28;01mwith\u001b[39;00m \u001b[43mWebCrawler\u001b[49m() \u001b[38;5;28;01mas\u001b[39;00m crawler:\n\u001b[32m      4\u001b[39m     result = crawler.run(\n\u001b[32m      5\u001b[39m         url=\u001b[33m\"\u001b[39m\u001b[33mhttps://www.nbcnews.com/business\u001b[39m\u001b[33m\"\u001b[39m,\n\u001b[32m      6\u001b[39m     )\n\u001b[32m      7\u001b[39m     \u001b[38;5;28mprint\u001b[39m(result.markdown)\n",
      "\u001b[31mNameError\u001b[39m: name 'WebCrawler' is not defined"
     ]
    }
   ],
   "source": [
    "crun_cfg = CrawlerRunConfig(\n",
    "      url=\"https://browserleaks.com/geo\",          # test page that shows your location\n",
    "      locale=\"en-US\",                              # Accept-Language & UI locale\n",
    "      timezone_id=\"America/Los_Angeles\",           # JS Date()/Intl timezone\n",
    "      geolocation=GeolocationConfig(                 # override GPS coords\n",
    "          latitude=34.0522,\n",
    "          longitude=-118.2437,\n",
    "          accuracy=10.0,\n",
    "      )\n",
    "  )"
   ]
  },
  {
   "cell_type": "code",
   "execution_count": null,
   "metadata": {},
   "outputs": [],
   "source": []
  }
 ],
 "metadata": {
  "kernelspec": {
   "display_name": "chatdocs",
   "language": "python",
   "name": "python3"
  },
  "language_info": {
   "codemirror_mode": {
    "name": "ipython",
    "version": 3
   },
   "file_extension": ".py",
   "mimetype": "text/x-python",
   "name": "python",
   "nbconvert_exporter": "python",
   "pygments_lexer": "ipython3",
   "version": "3.11.13"
  }
 },
 "nbformat": 4,
 "nbformat_minor": 2
}
