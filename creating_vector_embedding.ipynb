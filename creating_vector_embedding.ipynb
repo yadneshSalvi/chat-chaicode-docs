{
 "cells": [
  {
   "cell_type": "code",
   "execution_count": 12,
   "metadata": {},
   "outputs": [
    {
     "data": {
      "text/plain": [
       "True"
      ]
     },
     "execution_count": 12,
     "metadata": {},
     "output_type": "execute_result"
    }
   ],
   "source": [
    "import os\n",
    "from langchain_qdrant import QdrantVectorStore\n",
    "from qdrant_client import QdrantClient, models\n",
    "from langchain_openai import OpenAIEmbeddings\n",
    "from uuid import uuid4\n",
    "import json\n",
    "from langchain_core.documents import Document\n",
    "from dotenv import load_dotenv\n",
    "\n",
    "load_dotenv()"
   ]
  },
  {
   "cell_type": "code",
   "execution_count": 5,
   "metadata": {},
   "outputs": [],
   "source": [
    "# initialize the embeddings model\n",
    "embeddings = OpenAIEmbeddings(\n",
    "    model=\"text-embedding-3-large\",\n",
    "    dimensions=1024\n",
    ")"
   ]
  },
  {
   "cell_type": "code",
   "execution_count": 14,
   "metadata": {},
   "outputs": [],
   "source": [
    "# initialize the qdrant vector store\n",
    "EMBEDDING_VECTOR_SIZE = 1024\n",
    "qdrant_client = QdrantClient(\n",
    "    url=os.getenv(\"qdrant_endpoint\"),\n",
    "    api_key=os.getenv(\"qdrant_api_key\"),\n",
    "    https=False,\n",
    "    timeout=600,\n",
    ")\n",
    "\n",
    "qdrant_client.create_collection(\n",
    "    collection_name=\"chai-docs\",\n",
    "    vectors_config=models.VectorParams(\n",
    "        size=EMBEDDING_VECTOR_SIZE, distance=models.Distance.COSINE\n",
    "    ),\n",
    ")\n",
    "\n",
    "qdrant = QdrantVectorStore(\n",
    "    client=QdrantClient(\n",
    "        url=os.getenv(\"qdrant_endpoint\"),\n",
    "        api_key=os.getenv(\"qdrant_api_key\"),\n",
    "        https=False,\n",
    "        timeout=600,\n",
    "    ),\n",
    "    collection_name=\"chai-docs\",\n",
    "    embedding=OpenAIEmbeddings(model=\"text-embedding-3-large\", dimensions=EMBEDDING_VECTOR_SIZE),\n",
    ")"
   ]
  },
  {
   "cell_type": "code",
   "execution_count": 7,
   "metadata": {},
   "outputs": [],
   "source": [
    "# load the web pages content\n",
    "with open(\"web_pages_content_processed.json\", \"r\") as f:\n",
    "    web_pages_content = json.load(f)"
   ]
  },
  {
   "cell_type": "code",
   "execution_count": 15,
   "metadata": {},
   "outputs": [],
   "source": [
    "# create documents to be embedded and uploaded to qdrant\n",
    "documents = []\n",
    "for web_page in web_pages_content:\n",
    "    documents.append(\n",
    "        Document(\n",
    "            page_content=web_pages_content[web_page],\n",
    "            metadata={\n",
    "                \"web_url\": web_page\n",
    "            },\n",
    "        )\n",
    "    )"
   ]
  },
  {
   "cell_type": "code",
   "execution_count": 16,
   "metadata": {},
   "outputs": [
    {
     "name": "stdout",
     "output_type": "stream",
     "text": [
      "44\n"
     ]
    },
    {
     "data": {
      "text/plain": [
       "['3204e5ce-b3d1-46a3-8e18-1cafebfaaa5e',\n",
       " '26dfafed-f5f2-4122-a425-44b5d9ce313b',\n",
       " 'dd232d79-3d97-4d5a-a996-d297799ca692',\n",
       " '44fa83fe-14b3-4512-831d-289d444fa3f0',\n",
       " '67b96e47-1876-453b-9695-0ef5ffaa999c',\n",
       " '9ebeb817-77f4-481f-87d4-0b8887a0f3bf',\n",
       " '71171a80-9bf6-4258-87ad-38993a710f1a',\n",
       " 'a488178e-4e04-4040-9243-b712ef932b55',\n",
       " '3e7f8edb-a0f7-4f20-af17-4573b2d7733d',\n",
       " '2021da76-1626-457e-953f-bc8ee2a5e696',\n",
       " '36f92378-d435-434e-b526-45628061c7ed',\n",
       " '8b709549-3490-47d2-9815-ab55de314bd0',\n",
       " '97ab6f20-bbc0-44b5-84f1-49b886f0e5d2',\n",
       " 'e2dc15c4-586b-43fe-ac3a-83865333de07',\n",
       " '81a37b9e-a604-470f-87d7-edef2aa71f5d',\n",
       " 'b8c58902-aeec-4836-b76e-f03fbd7acbd1',\n",
       " 'bd9ee4b8-b9c1-470a-8fc0-a22d91003829',\n",
       " 'deaffd78-d353-4b4d-abb2-f7abf720e221',\n",
       " '1f46dd80-2321-41a7-85c6-fc184754dec6',\n",
       " '52485d4b-83b8-4a89-80be-cea89da91649',\n",
       " 'b1371d5f-8c4f-47de-84dc-703ee790ff64',\n",
       " '94870873-1ab6-4d50-ac67-5effd423fc18',\n",
       " 'c8e05791-3d69-4585-9d84-358cd8927901',\n",
       " 'a730025f-20e0-49c8-a94d-e635d434f984',\n",
       " '14256bdc-06e1-4fe2-bbdc-1a6d8953f0cd',\n",
       " 'ea224a1c-3706-457e-a015-2f7fa0a15f60',\n",
       " '717c9339-d886-40ec-9ae9-08f79eab9594',\n",
       " '45e624d3-e053-4cd9-9092-fa3cf8f95204',\n",
       " 'b2bd4a3a-294f-4e17-8825-69dc22212abb',\n",
       " '6df2f90f-b75c-4b6f-97c2-ae6642439bee',\n",
       " '468738ce-5ef3-4ea6-864f-bfdbc8c1b8bb',\n",
       " 'a8a3af3c-bac7-418c-8995-30e271b21306',\n",
       " 'b2acd8e1-77e7-4ce5-9d8b-e1b7e7ff3e7e',\n",
       " '6a33a5d9-6a9c-4a9f-b257-b4bb4a1eac24',\n",
       " 'e9934160-78bf-4c2f-8eda-fd6340a72e22',\n",
       " 'e3a976df-70ca-4167-b39a-b3356157bb82',\n",
       " 'd6a9c562-0a2e-4197-9235-90063e4224ac',\n",
       " 'e78de3c7-e20d-4fae-90da-9aa781531244',\n",
       " '50555ac9-6d15-4873-9fce-3d4b180cf4ef',\n",
       " 'a813f7f6-744d-4d99-adb8-09d9fb139ab3',\n",
       " 'fc47c68a-2f3f-497f-9980-a1c0913bb14f',\n",
       " '9eb60fd0-b0f5-4df9-ba88-836a6a6d6239',\n",
       " 'e5516e9a-6cf1-4fe7-9ebe-e44453320564',\n",
       " 'abf95907-619f-4793-acd1-5306d3d38895']"
      ]
     },
     "execution_count": 16,
     "metadata": {},
     "output_type": "execute_result"
    }
   ],
   "source": [
    "uuids = [str(uuid4()) for _ in range(len(documents))]\n",
    "print(len(uuids))\n",
    "qdrant.add_documents(documents=documents, ids=uuids)"
   ]
  },
  {
   "cell_type": "code",
   "execution_count": null,
   "metadata": {},
   "outputs": [],
   "source": []
  }
 ],
 "metadata": {
  "kernelspec": {
   "display_name": "chatdocs",
   "language": "python",
   "name": "python3"
  },
  "language_info": {
   "codemirror_mode": {
    "name": "ipython",
    "version": 3
   },
   "file_extension": ".py",
   "mimetype": "text/x-python",
   "name": "python",
   "nbconvert_exporter": "python",
   "pygments_lexer": "ipython3",
   "version": "3.11.13"
  }
 },
 "nbformat": 4,
 "nbformat_minor": 2
}
